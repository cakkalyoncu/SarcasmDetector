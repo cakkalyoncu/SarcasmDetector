{
 "cells": [
  {
   "cell_type": "code",
   "execution_count": 1,
   "metadata": {},
   "outputs": [],
   "source": [
    "import pandas as pd\n",
    "import numpy as py\n",
    "import numpy as np\n",
    "import matplotlib.pyplot as plt\n",
    "from sklearn.metrics import confusion_matrix, classification_report, roc_curve, auc\n",
    "import json\n",
    "import spacy\n",
    "import collections"
   ]
  },
  {
   "cell_type": "code",
   "execution_count": 2,
   "metadata": {},
   "outputs": [],
   "source": [
    "dataset  = pd.read_json('Sarcasm_Headlines_Dataset.json', lines=True)"
   ]
  },
  {
   "cell_type": "code",
   "execution_count": 3,
   "metadata": {},
   "outputs": [
    {
     "data": {
      "text/plain": [
       "'\\nPreprocessing of the headlines.\\n * Word tokenization,\\n * Lower case,\\n * Stop word removal,\\n * Punctuation removal,\\n * Digit removal,\\n * Lemmatization.\\n'"
      ]
     },
     "execution_count": 3,
     "metadata": {},
     "output_type": "execute_result"
    }
   ],
   "source": [
    "    \"\"\"\n",
    "    Preprocessing of the headlines.\n",
    "     * Word tokenization,\n",
    "     * Lower case,\n",
    "     * Stop word removal,\n",
    "     * Punctuation removal,\n",
    "     * Digit removal,\n",
    "     * Lemmatization.\n",
    "    \"\"\""
   ]
  },
  {
   "cell_type": "code",
   "execution_count": 4,
   "metadata": {},
   "outputs": [
    {
     "name": "stderr",
     "output_type": "stream",
     "text": [
      "[nltk_data] Downloading package stopwords to\n",
      "[nltk_data]     C:\\Users\\İREM\\AppData\\Roaming\\nltk_data...\n",
      "[nltk_data]   Package stopwords is already up-to-date!\n"
     ]
    }
   ],
   "source": [
    "# Cleaning the text\n",
    "import re\n",
    "import nltk\n",
    "nltk.download('stopwords')\n",
    "from nltk.corpus import stopwords\n",
    "from nltk.stem.snowball import SnowballStemmer\n",
    "corpus = []\n",
    "nlp = spacy.load('en')\n",
    "for i, headline in enumerate(dataset['headline']):\n",
    "    doc = nlp(headline)\n",
    "    review = dataset['headline'][i] \n",
    "    tokens = [word.lemma_.lower() for word in doc\n",
    "        if len(word) > 3 and not (word.is_stop | word.is_punct | word.is_digit)]\n",
    "    review = \" \".join(tokens)\n",
    "    #review = review.split() \n",
    "    #ps = SnowballStemmer(\"english\")\n",
    "    #review = [ps.stem(word) for word in review if not word in stopwords.words('english')]\n",
    "    #review = ' '.join(review) \n",
    "    corpus.append(review) # add it to the corpus"
   ]
  },
  {
   "cell_type": "code",
   "execution_count": 5,
   "metadata": {},
   "outputs": [],
   "source": [
    "from nltk.sentiment import vader\n",
    "from nltk.sentiment.vader import SentimentIntensityAnalyzer\n",
    "vader_model = SentimentIntensityAnalyzer()  "
   ]
  },
  {
   "cell_type": "code",
   "execution_count": 6,
   "metadata": {},
   "outputs": [],
   "source": [
    "sentiments = []\n",
    "for headline in corpus:\n",
    "    scores = vader_model.polarity_scores(headline)\n",
    "    #print()\n",
    "    #print('INPUT SENTENCE', headline)\n",
    "    #print('VADER OUTPUT', scores)\n",
    "    scores_array = [scores['neg'],scores['neu'],scores['pos'],scores['compound']]\n",
    "    sentiments.append(scores_array)\n",
    "\n",
    "sentiment_array = np.array([np.array(x) for x in sentiments])"
   ]
  },
  {
   "cell_type": "code",
   "execution_count": 7,
   "metadata": {},
   "outputs": [
    {
     "name": "stdout",
     "output_type": "stream",
     "text": [
      "(26709, 4)\n"
     ]
    }
   ],
   "source": [
    "print((sentiment_array.shape))"
   ]
  },
  {
   "cell_type": "code",
   "execution_count": 9,
   "metadata": {},
   "outputs": [
    {
     "name": "stderr",
     "output_type": "stream",
     "text": [
      "C:\\Users\\Public\\Empty\\lib\\site-packages\\sklearn\\linear_model\\logistic.py:758: ConvergenceWarning: lbfgs failed to converge. Increase the number of iterations.\n",
      "  \"of iterations.\", ConvergenceWarning)\n",
      "C:\\Users\\Public\\Empty\\lib\\site-packages\\sklearn\\linear_model\\logistic.py:758: ConvergenceWarning: lbfgs failed to converge. Increase the number of iterations.\n",
      "  \"of iterations.\", ConvergenceWarning)\n",
      "C:\\Users\\Public\\Empty\\lib\\site-packages\\sklearn\\linear_model\\logistic.py:758: ConvergenceWarning: lbfgs failed to converge. Increase the number of iterations.\n",
      "  \"of iterations.\", ConvergenceWarning)\n",
      "C:\\Users\\Public\\Empty\\lib\\site-packages\\sklearn\\linear_model\\logistic.py:758: ConvergenceWarning: lbfgs failed to converge. Increase the number of iterations.\n",
      "  \"of iterations.\", ConvergenceWarning)\n",
      "C:\\Users\\Public\\Empty\\lib\\site-packages\\sklearn\\linear_model\\logistic.py:758: ConvergenceWarning: lbfgs failed to converge. Increase the number of iterations.\n",
      "  \"of iterations.\", ConvergenceWarning)\n",
      "C:\\Users\\Public\\Empty\\lib\\site-packages\\sklearn\\linear_model\\logistic.py:758: ConvergenceWarning: lbfgs failed to converge. Increase the number of iterations.\n",
      "  \"of iterations.\", ConvergenceWarning)\n",
      "C:\\Users\\Public\\Empty\\lib\\site-packages\\sklearn\\linear_model\\logistic.py:758: ConvergenceWarning: lbfgs failed to converge. Increase the number of iterations.\n",
      "  \"of iterations.\", ConvergenceWarning)\n"
     ]
    }
   ],
   "source": [
    "# bag of words model\n",
    "y = dataset.iloc[:, 2]\n",
    "from sklearn.feature_extraction.text import TfidfVectorizer\n",
    "features_n = range(2800, 3500, 100) # list of different max vectors to try\n",
    "scores = []\n",
    "\n",
    "for i in features_n:\n",
    "    \n",
    "    #Td-idf\n",
    "    tf = TfidfVectorizer(analyzer='word', ngram_range=(1,3),max_features = i)\n",
    "    X = tf.fit_transform(corpus).toarray() #get the preprocessed text\n",
    "    \n",
    "    #add sentiment scores to feature vector\n",
    "    X = np.concatenate((X,sentiment_array),axis=1)\n",
    "   \n",
    "    #Splitting\n",
    "    from sklearn.model_selection import train_test_split\n",
    "    X_train, X_test, y_train, y_test = train_test_split(X,y, test_size=0.2, random_state=0)\n",
    "    \n",
    "    #Logistic regression (our main model)\n",
    "    from sklearn.linear_model import LogisticRegression  \n",
    "    classifier = LogisticRegression(random_state=0, solver='lbfgs') \n",
    "    \n",
    "    #Multinomial Naive Bayes (only for the last part)\n",
    "    from sklearn.naive_bayes import MultinomialNB\n",
    "    #classifier2 = MultinomialNB().fit(X_train, y_train)\n",
    "    \n",
    "    classifier.fit(X_train, y_train)\n",
    "    #classifier2.fit(X_train, y_train)\n",
    "\n",
    "    y_pred = classifier.predict(X_test)\n",
    "\n",
    "    #Confusion Matrix\n",
    "    from sklearn.metrics import confusion_matrix\n",
    "    cm = confusion_matrix(y_test, y_pred)\n",
    "    TP = cm[0][0]\n",
    "    FP = cm[0][1]\n",
    "    FN = cm[1][0]\n",
    "    TN = cm[1][1]\n",
    "    error_rate = (FP+FN)/(TP+TN+FP+FN) # calculating the error rate based on confusion matrix results\n",
    "    scores.append(error_rate)"
   ]
  },
  {
   "cell_type": "code",
   "execution_count": 10,
   "metadata": {},
   "outputs": [
    {
     "name": "stdout",
     "output_type": "stream",
     "text": [
      "<class 'tuple'>\n"
     ]
    }
   ],
   "source": [
    "print(type(X.shape))"
   ]
  },
  {
   "cell_type": "code",
   "execution_count": 11,
   "metadata": {},
   "outputs": [
    {
     "name": "stdout",
     "output_type": "stream",
     "text": [
      "The optimal number of max vectors is 3400 with an error rate of 0.227\n"
     ]
    },
    {
     "data": {
      "image/png": "[encoded data removed]",
      "text/plain": [
       "<Figure size 432x288 with 1 Axes>"
      ]
     },
     "metadata": {
      "needs_background": "light"
     },
     "output_type": "display_data"
    },
    {
     "data": {
      "text/plain": [
       "<Figure size 432x288 with 0 Axes>"
      ]
     },
     "metadata": {},
     "output_type": "display_data"
    }
   ],
   "source": [
    "#Printing out the optimal max features value and plot the results\n",
    "optimal_n = features_n[scores.index(min(scores))]\n",
    "print (\"The optimal number of max vectors is %d\" % optimal_n + \" with an error rate of %.3f\" % min(scores))\n",
    "plt.plot(features_n, scores)\n",
    "plt.xlabel('Number of Max Vectors')\n",
    "plt.ylabel('Error Rate')\n",
    "plt.show()\n",
    "#plt.savefig('Sarcasm_Error')"
   ]
  },
  {
   "cell_type": "code",
   "execution_count": 12,
   "metadata": {},
   "outputs": [
    {
     "name": "stdout",
     "output_type": "stream",
     "text": [
      "Confusion matrix\n",
      " [[2554  453]\n",
      " [ 757 1578]]\n"
     ]
    }
   ],
   "source": [
    "print('Confusion matrix\\n',confusion_matrix(y_test, y_pred))"
   ]
  },
  {
   "cell_type": "code",
   "execution_count": 13,
   "metadata": {},
   "outputs": [
    {
     "name": "stdout",
     "output_type": "stream",
     "text": [
      "Classification_report\n",
      "               precision    recall  f1-score   support\n",
      "\n",
      "           0       0.77      0.85      0.81      3007\n",
      "           1       0.78      0.68      0.72      2335\n",
      "\n",
      "   micro avg       0.77      0.77      0.77      5342\n",
      "   macro avg       0.77      0.76      0.77      5342\n",
      "weighted avg       0.77      0.77      0.77      5342\n",
      "\n"
     ]
    }
   ],
   "source": [
    "print('Classification_report\\n',classification_report(y_test, y_pred))"
   ]
  },
  {
   "cell_type": "code",
   "execution_count": 14,
   "metadata": {},
   "outputs": [
    {
     "data": {
      "text/plain": [
       "[0.23025084238113067,\n",
       " 0.2291276675402471,\n",
       " 0.22819168850617746,\n",
       " 0.22725570947210783,\n",
       " 0.22688131785847998,\n",
       " 0.22800449269936354,\n",
       " 0.2265069262448521]"
      ]
     },
     "execution_count": 14,
     "metadata": {},
     "output_type": "execute_result"
    }
   ],
   "source": [
    "scores"
   ]
  },
  {
   "cell_type": "code",
   "execution_count": 20,
   "metadata": {},
   "outputs": [
    {
     "data": {
      "image/png": "[encoded data removed]",
      "text/plain": [
       "<Figure size 504x360 with 2 Axes>"
      ]
     },
     "metadata": {
      "needs_background": "light"
     },
     "output_type": "display_data"
    }
   ],
   "source": [
    "classes = ['Sarcastic','Not Sarcastic']\n",
    "plt.rcParams[\"figure.figsize\"] = (7,5)\n",
    "normalize = True\n",
    "cm =confusion_matrix(y_test,y_pred)\n",
    "\n",
    "fig, ax = plt.subplots()\n",
    "im = ax.imshow(cm, interpolation='nearest', cmap=plt.cm.GnBu)\n",
    "ax.figure.colorbar(im, ax=ax)\n",
    "# We want to show all ticks...\n",
    "ax.set(xticks=np.arange(cm.shape[1]),\n",
    "       yticks=np.arange(cm.shape[0]),\n",
    "       # ... and label them with the respective list entries\n",
    "       xticklabels=classes, yticklabels=classes,\n",
    "       title= \"Sarcasm Outcomes\",\n",
    "       ylabel='True label',\n",
    "       xlabel='Predicted label')\n",
    "fmt = '.2f' if normalize else 'd'\n",
    "thresh = cm.max() / 2.\n",
    "for i in range(cm.shape[0]):\n",
    "    for j in range(cm.shape[1]):\n",
    "        ax.text(j, i, format(cm[i, j], fmt),\n",
    "                ha=\"center\", va=\"center\",\n",
    "                color=\"white\" if cm[i, j] > thresh else \"black\")\n",
    "fig.autofmt_xdate()\n",
    "#plt.savefig('Sarcasm_Confusion_Matrix')"
   ]
  },
  {
   "cell_type": "code",
   "execution_count": 21,
   "metadata": {},
   "outputs": [],
   "source": [
    "def important_features_per_class(vectorizer,classifier,n=80):\n",
    "    class_labels = classifier.classes_\n",
    "    feature_names =vectorizer.get_feature_names()\n",
    "    topn_class1 = sorted(zip(classifier.feature_count_[0], feature_names),reverse=True)[:n]\n",
    "    topn_class2 = sorted(zip(classifier.feature_count_[1], feature_names),reverse=True)[:n]\n",
    "    print(\"Important words in non-sarcastic documents\")\n",
    "    for coef, feat in topn_class1:\n",
    "        print(class_labels[0], coef, feat)\n",
    "    print(\"-----------------------------------------\")\n",
    "    print(\"Important words in sarcastic documents\")\n",
    "    for coef, feat in topn_class2:\n",
    "        print(class_labels[1], coef, feat) "
   ]
  },
  {
   "cell_type": "code",
   "execution_count": 26,
   "metadata": {
    "scrolled": true
   },
   "outputs": [],
   "source": [
    "#important_features_per_class(tf, classifier2)"
   ]
  },
  {
   "cell_type": "code",
   "execution_count": 24,
   "metadata": {},
   "outputs": [
    {
     "name": "stdout",
     "output_type": "stream",
     "text": [
      "('area', 6.909709904666131)\n",
      "('nation', 5.411834751576067)\n",
      "('report', 4.594138174006566)\n",
      "('local', 4.219829079022231)\n",
      "('introduce', 3.8964576537213262)\n",
      "-----------------------------------------\n",
      "('trump', -4.872319252326411)\n",
      "('donald', -2.849819067296932)\n",
      "('queer', -2.7641352454414467)\n",
      "('way', -2.586171064096951)\n",
      "('donald trump', -2.51269580756812)\n"
     ]
    }
   ],
   "source": [
    "feature_to_coef = {\n",
    "    word: coef for word, coef in zip(\n",
    "        tf.get_feature_names(), classifier.coef_[0]\n",
    "    )\n",
    "}\n",
    "\n",
    "for best_positive in sorted(\n",
    "    feature_to_coef.items(), \n",
    "    key=lambda x: x[1], \n",
    "    reverse=True)[:5]:\n",
    "    print (best_positive)\n",
    "    \n",
    "print(\"-----------------------------------------\")\n",
    "\n",
    "for best_negative in sorted(\n",
    "    feature_to_coef.items(), \n",
    "    key=lambda x: x[1])[:5]:\n",
    "    print (best_negative)\n"
   ]
  },
  {
   "cell_type": "code",
   "execution_count": 15,
   "metadata": {},
   "outputs": [
    {
     "data": {
      "text/plain": [
       "'\\nContent extraction from the headlines.\\n'"
      ]
     },
     "execution_count": 15,
     "metadata": {},
     "output_type": "execute_result"
    }
   ],
   "source": [
    "\"\"\"\n",
    "Content extraction from the headlines.\n",
    "\"\"\""
   ]
  },
  {
   "cell_type": "code",
   "execution_count": 16,
   "metadata": {},
   "outputs": [],
   "source": [
    "from nltk.tokenize import word_tokenize\n",
    "text_data = []\n",
    "for sent in corpus:\n",
    "    doc = word_tokenize(sent)\n",
    "    text_data.append(doc)"
   ]
  },
  {
   "cell_type": "code",
   "execution_count": 17,
   "metadata": {},
   "outputs": [],
   "source": [
    "from gensim import corpora\n",
    "dictionary = corpora.Dictionary(text_data)\n",
    "corpus = [dictionary.doc2bow(text) for text in text_data]\n",
    "\n",
    "import pickle\n",
    "pickle.dump(corpus, open('corpus.pkl', 'wb'))\n",
    "dictionary.save('dictionary.gensim')"
   ]
  },
  {
   "cell_type": "code",
   "execution_count": 18,
   "metadata": {},
   "outputs": [
    {
     "name": "stdout",
     "output_type": "stream",
     "text": [
      "(12, '0.230*\"trump\" + 0.079*\"donald\" + 0.061*\"house\" + 0.051*\"white\"')\n",
      "(19, '0.056*\"open\" + 0.046*\"office\" + 0.036*\"teacher\" + 0.032*\"happen\"')\n",
      "(17, '0.115*\"obama\" + 0.064*\"leave\" + 0.027*\"explain\" + 0.022*\"believe\"')\n",
      "(14, '0.063*\"star\" + 0.050*\"girl\" + 0.038*\"force\" + 0.030*\"dead\"')\n",
      "(25, '0.044*\"give\" + 0.043*\"self\" + 0.031*\"candidate\" + 0.031*\"couple\"')\n",
      "(0, '0.054*\"work\" + 0.046*\"stop\" + 0.029*\"word\" + 0.027*\"father\"')\n",
      "(27, '0.063*\"want\" + 0.059*\"come\" + 0.050*\"tell\" + 0.045*\"trump\"')\n",
      "(13, '0.049*\"million\" + 0.035*\"food\" + 0.030*\"sign\" + 0.027*\"award\"')\n",
      "(28, '0.074*\"know\" + 0.061*\"need\" + 0.056*\"kill\" + 0.036*\"bush\"')\n",
      "(1, '0.059*\"plan\" + 0.039*\"fight\" + 0.036*\"baby\" + 0.034*\"announce\"')\n",
      "(16, '0.094*\"good\" + 0.071*\"family\" + 0.052*\"friend\" + 0.035*\"movie\"')\n",
      "(2, '0.065*\"like\" + 0.063*\"nation\" + 0.062*\"look\" + 0.059*\"thing\"')\n",
      "(23, '0.067*\"clinton\" + 0.045*\"health\" + 0.038*\"hillary\" + 0.034*\"care\"')\n",
      "(29, '0.044*\"fire\" + 0.029*\"employee\" + 0.025*\"tweet\" + 0.025*\"race\"')\n",
      "(7, '0.041*\"hope\" + 0.039*\"die\" + 0.032*\"mother\" + 0.026*\"line\"')\n",
      "(10, '0.155*\"woman\" + 0.091*\"area\" + 0.056*\"change\" + 0.026*\"climate\"')\n",
      "(21, '0.056*\"state\" + 0.053*\"president\" + 0.037*\"night\" + 0.035*\"deal\"')\n",
      "(11, '0.050*\"election\" + 0.048*\"student\" + 0.034*\"college\" + 0.030*\"body\"')\n",
      "(24, '0.054*\"party\" + 0.050*\"video\" + 0.043*\"bill\" + 0.032*\"bring\"')\n",
      "(3, '0.098*\"report\" + 0.077*\"life\" + 0.056*\"watch\" + 0.051*\"make\"')\n"
     ]
    }
   ],
   "source": [
    "import gensim\n",
    "NUM_TOPICS = 30\n",
    "ldamodel = gensim.models.ldamodel.LdaModel(corpus, num_topics = NUM_TOPICS, id2word=dictionary, passes=15)\n",
    "ldamodel.save('model1.gensim')\n",
    "topics = ldamodel.print_topics(num_words=4)\n",
    "for topic in topics:\n",
    "    print(topic)"
   ]
  },
  {
   "cell_type": "code",
   "execution_count": null,
   "metadata": {},
   "outputs": [],
   "source": [
    "dictionary = gensim.corpora.Dictionary.load('dictionary.gensim')\n",
    "corpus = pickle.load(open('corpus.pkl', 'rb'))\n",
    "lda = gensim.models.ldamodel.LdaModel.load('model1.gensim')\n",
    "\n",
    "import pyLDAvis.gensim \n",
    "lda_display = pyLDAvis.gensim.prepare(lda, corpus, dictionary, sort_topics=False)\n",
    "pyLDAvis.display(lda_display)"
   ]
  },
  {
   "cell_type": "code",
   "execution_count": null,
   "metadata": {},
   "outputs": [],
   "source": []
  }
 ],
 "metadata": {
  "kernelspec": {
   "display_name": "Python 3",
   "language": "python",
   "name": "python3"
  },
  "language_info": {
   "codemirror_mode": {
    "name": "ipython",
    "version": 3
   },
   "file_extension": ".py",
   "mimetype": "text/x-python",
   "name": "python",
   "nbconvert_exporter": "python",
   "pygments_lexer": "ipython3",
   "version": "3.7.1"
  }
 },
 "nbformat": 4,
 "nbformat_minor": 2
}
